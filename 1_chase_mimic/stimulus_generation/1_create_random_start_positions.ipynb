{
 "cells": [
  {
   "cell_type": "code",
   "execution_count": 70,
   "source": [
    "from random import randint\n",
    "\n",
    "def gencoordinates(m, n1,n2):\n",
    "    seen = set()\n",
    "\n",
    "    x, y = randint(m, n1), randint(m, n2)\n",
    "\n",
    "    while True:\n",
    "        seen.add((x, y))\n",
    "        yield (x, y)\n",
    "        x, y = randint(m, n1), randint(m, n2)\n",
    "        while (x, y) in seen:\n",
    "            x, y = randint(m, n1), randint(m, n2)"
   ],
   "outputs": [],
   "metadata": {}
  },
  {
   "cell_type": "code",
   "execution_count": 71,
   "source": [
    "nsubtlety, nstatpos, ncolor = 6,2,2 # recollapses with have same start position\n",
    "variants = 3\n",
    "nrequired_vids = nsubtlety*nstatpos * ncolor *variants\n",
    "nrequired_vids"
   ],
   "outputs": [
    {
     "output_type": "execute_result",
     "data": {
      "text/plain": [
       "72"
      ]
     },
     "metadata": {},
     "execution_count": 71
    }
   ],
   "metadata": {}
  },
  {
   "cell_type": "markdown",
   "source": [
    "loop order: subtlety variations, initpos variations, color variations"
   ],
   "metadata": {}
  },
  {
   "cell_type": "code",
   "execution_count": 72,
   "source": [
    "subt_angle = 10*np.arange(0,16,3)\n",
    "subt_angle"
   ],
   "outputs": [
    {
     "output_type": "execute_result",
     "data": {
      "text/plain": [
       "array([  0,  30,  60,  90, 120, 150])"
      ]
     },
     "metadata": {},
     "execution_count": 72
    }
   ],
   "metadata": {}
  },
  {
   "cell_type": "code",
   "execution_count": 73,
   "source": [
    "world = [1200,900]\n",
    "g = gencoordinates(0, world[0],world[1])\n",
    "coords = []\n",
    "for i in range(nrequired_vids):\n",
    "    coords.append(next(g))"
   ],
   "outputs": [],
   "metadata": {}
  },
  {
   "cell_type": "code",
   "execution_count": 74,
   "source": [
    "coords_array = np.array(coords)"
   ],
   "outputs": [],
   "metadata": {}
  },
  {
   "cell_type": "code",
   "execution_count": 75,
   "source": [
    "import numpy as np\n",
    "import matplotlib.pyplot as plt\n",
    "\n",
    "\n",
    "plt.figure(1,figsize=(10,8))\n",
    "for subt in range(6):\n",
    "    plt.subplot(3,3,subt+1)\n",
    "    rows = np.arange(subt*12,(subt+1)*12)\n",
    "    print(rows)\n",
    "    plt.plot(coords_array[rows,1],coords_array[rows,0], ls = 'None',marker = 'o')\n",
    "    plt.plot(coords_array[rows,1].mean(),coords_array[rows,0].mean(),color='r',marker = '+')\n",
    "    plt.title('Subtlety ' + str(subt_angle[subt]), fontweight='bold')\n",
    "plt.tight_layout()"
   ],
   "outputs": [
    {
     "output_type": "stream",
     "name": "stdout",
     "text": [
      "[ 0  1  2  3  4  5  6  7  8  9 10 11]\n",
      "[12 13 14 15 16 17 18 19 20 21 22 23]\n",
      "[24 25 26 27 28 29 30 31 32 33 34 35]\n",
      "[36 37 38 39 40 41 42 43 44 45 46 47]\n",
      "[48 49 50 51 52 53 54 55 56 57 58 59]\n",
      "[60 61 62 63 64 65 66 67 68 69 70 71]\n"
     ]
    },
    {
     "output_type": "display_data",
     "data": {
      "image/png": "[encoded data removed]",
      "text/plain": [
       "<Figure size 720x576 with 6 Axes>"
      ]
     },
     "metadata": {
      "needs_background": "light"
     }
    }
   ],
   "metadata": {}
  },
  {
   "cell_type": "code",
   "execution_count": 76,
   "source": [
    "#import csv\n",
    "import json\n",
    "\n",
    "data = {}\n",
    "data['x'] = list(coords_array[:,0])\n",
    "data['x'] = [int(i) for i in data['x']]\n",
    "data['y'] = list(coords_array[:,1])\n",
    "data['y'] = [int(i) for i in data['y']]\n",
    "\n",
    "json_data = json.dumps(data)\n",
    "print(json_data)"
   ],
   "outputs": [
    {
     "output_type": "stream",
     "name": "stdout",
     "text": [
      "{\"x\": [1089, 453, 839, 1113, 241, 286, 985, 77, 1050, 920, 82, 1064, 1106, 770, 773, 933, 258, 7, 442, 959, 1108, 1131, 666, 561, 1075, 372, 118, 1195, 948, 219, 162, 15, 873, 987, 558, 1141, 620, 162, 473, 210, 633, 83, 743, 1023, 667, 785, 245, 1170, 1126, 675, 1031, 665, 40, 88, 426, 1089, 327, 741, 98, 556, 901, 1152, 1155, 26, 1075, 1172, 551, 885, 658, 1066, 558, 939], \"y\": [745, 444, 476, 291, 497, 487, 37, 616, 259, 436, 280, 531, 157, 438, 505, 643, 802, 143, 829, 297, 634, 280, 72, 829, 546, 528, 417, 281, 871, 213, 105, 431, 75, 694, 276, 224, 486, 206, 793, 621, 554, 488, 193, 162, 634, 369, 675, 388, 326, 514, 19, 191, 24, 538, 402, 659, 16, 107, 73, 413, 517, 101, 640, 788, 185, 511, 587, 34, 261, 796, 219, 777]}\n"
     ]
    }
   ],
   "metadata": {}
  },
  {
   "cell_type": "code",
   "execution_count": 77,
   "source": [
    "len(data['x'])"
   ],
   "outputs": [
    {
     "output_type": "execute_result",
     "data": {
      "text/plain": [
       "72"
      ]
     },
     "metadata": {},
     "execution_count": 77
    }
   ],
   "metadata": {}
  },
  {
   "cell_type": "code",
   "execution_count": 78,
   "source": [
    "with open('mimic_start_position.json', 'w') as outfile:\n",
    "    json.dump(json_data, outfile)"
   ],
   "outputs": [],
   "metadata": {}
  },
  {
   "cell_type": "code",
   "execution_count": 79,
   "source": [
    "x = iter({'a','b','c'})\n",
    "print(next(x))"
   ],
   "outputs": [
    {
     "output_type": "stream",
     "name": "stdout",
     "text": [
      "a\n"
     ]
    }
   ],
   "metadata": {}
  },
  {
   "cell_type": "code",
   "execution_count": 80,
   "source": [
    "import csv\n",
    "with open('mimic_start_position.csv','w') as out:\n",
    "    csv_out=csv.writer(out)\n",
    "    csv_out.writerow(['x','y'])\n",
    "    for row in coords:\n",
    "        csv_out.writerow(row)"
   ],
   "outputs": [],
   "metadata": {}
  },
  {
   "cell_type": "markdown",
   "source": [
    "# read json file and plot start points"
   ],
   "metadata": {}
  },
  {
   "cell_type": "code",
   "execution_count": 81,
   "source": [
    "import os\n",
    "import json\n",
    "os.getcwd()"
   ],
   "outputs": [
    {
     "output_type": "execute_result",
     "data": {
      "text/plain": [
       "'/Users/f0053cz/Documents/psyanim_notapp/psyanim_notapp_new_mimic_expt/test_version'"
      ]
     },
     "metadata": {},
     "execution_count": 81
    }
   ],
   "metadata": {}
  },
  {
   "cell_type": "code",
   "execution_count": 82,
   "source": [
    "fileName = 'mimic_start_position.json'\n",
    "with open(fileName) as json_data:\n",
    "# with open(flnames[0]) as json_data:\n",
    "    data1 = json.load(json_data)\n",
    "data1"
   ],
   "outputs": [
    {
     "output_type": "execute_result",
     "data": {
      "text/plain": [
       "'{\"x\": [1089, 453, 839, 1113, 241, 286, 985, 77, 1050, 920, 82, 1064, 1106, 770, 773, 933, 258, 7, 442, 959, 1108, 1131, 666, 561, 1075, 372, 118, 1195, 948, 219, 162, 15, 873, 987, 558, 1141, 620, 162, 473, 210, 633, 83, 743, 1023, 667, 785, 245, 1170, 1126, 675, 1031, 665, 40, 88, 426, 1089, 327, 741, 98, 556, 901, 1152, 1155, 26, 1075, 1172, 551, 885, 658, 1066, 558, 939], \"y\": [745, 444, 476, 291, 497, 487, 37, 616, 259, 436, 280, 531, 157, 438, 505, 643, 802, 143, 829, 297, 634, 280, 72, 829, 546, 528, 417, 281, 871, 213, 105, 431, 75, 694, 276, 224, 486, 206, 793, 621, 554, 488, 193, 162, 634, 369, 675, 388, 326, 514, 19, 191, 24, 538, 402, 659, 16, 107, 73, 413, 517, 101, 640, 788, 185, 511, 587, 34, 261, 796, 219, 777]}'"
      ]
     },
     "metadata": {},
     "execution_count": 82
    }
   ],
   "metadata": {}
  },
  {
   "cell_type": "code",
   "execution_count": 83,
   "source": [
    "if type(data1) == str:\n",
    "    print('evaluating string')\n",
    "    data1 = eval(data1)\n",
    "data1.keys(), len(data1['x'])"
   ],
   "outputs": [
    {
     "output_type": "stream",
     "name": "stdout",
     "text": [
      "evaluating string\n"
     ]
    },
    {
     "output_type": "execute_result",
     "data": {
      "text/plain": [
       "(dict_keys(['x', 'y']), 72)"
      ]
     },
     "metadata": {},
     "execution_count": 83
    }
   ],
   "metadata": {}
  },
  {
   "cell_type": "code",
   "execution_count": 84,
   "source": [
    "rows =  np.arange((subt-1)*6,subt*6)\n",
    "#rows = [int(i) for i in rows]\n",
    "#rows = slice(rows)\n",
    "rows"
   ],
   "outputs": [
    {
     "output_type": "execute_result",
     "data": {
      "text/plain": [
       "array([24, 25, 26, 27, 28, 29])"
      ]
     },
     "metadata": {},
     "execution_count": 84
    }
   ],
   "metadata": {}
  },
  {
   "cell_type": "code",
   "execution_count": 85,
   "source": [
    "import numpy as np\n",
    "import matplotlib.pyplot as plt\n",
    "\n",
    "plt.figure(1,figsize=(10,8))\n",
    "for subt in range(6):\n",
    "    plt.subplot(3,3,subt+1)\n",
    "    rows =  np.arange(subt*6,(subt+1)*6)\n",
    "    print(subt, rows)\n",
    "    x,y = np.array(data1['x'])[rows],np.array(data1['y'])[rows]\n",
    "    plt.plot(x,y,marker = 'o',ls = 'None')\n",
    "    plt.plot(x.mean(),y.mean(),color='r',marker = '+')\n",
    "    plt.title('Subtlety ' + str(subt_angle[subt]), fontweight='bold')\n",
    "\n",
    "plt.tight_layout()"
   ],
   "outputs": [
    {
     "output_type": "stream",
     "name": "stdout",
     "text": [
      "0 [0 1 2 3 4 5]\n",
      "1 [ 6  7  8  9 10 11]\n",
      "2 [12 13 14 15 16 17]\n",
      "3 [18 19 20 21 22 23]\n",
      "4 [24 25 26 27 28 29]\n",
      "5 [30 31 32 33 34 35]\n"
     ]
    },
    {
     "output_type": "display_data",
     "data": {
      "image/png": "[encoded data removed]",
      "text/plain": [
       "<Figure size 720x576 with 6 Axes>"
      ]
     },
     "metadata": {
      "needs_background": "light"
     }
    }
   ],
   "metadata": {}
  },
  {
   "cell_type": "code",
   "execution_count": null,
   "source": [],
   "outputs": [],
   "metadata": {}
  }
 ],
 "metadata": {
  "orig_nbformat": 4,
  "language_info": {
   "name": "python",
   "version": "3.7.11",
   "mimetype": "text/x-python",
   "codemirror_mode": {
    "name": "ipython",
    "version": 3
   },
   "pygments_lexer": "ipython3",
   "nbconvert_exporter": "python",
   "file_extension": ".py"
  },
  "kernelspec": {
   "name": "python3",
   "display_name": "Python 3.7.11 64-bit ('py37': conda)"
  },
  "interpreter": {
   "hash": "30fd9c97283ec1278eec212a8f8afab06ad903f38228c32cacb469eba8e56f4f"
  }
 },
 "nbformat": 4,
 "nbformat_minor": 2
}