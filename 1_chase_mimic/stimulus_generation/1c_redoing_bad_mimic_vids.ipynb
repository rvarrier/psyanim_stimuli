{
 "cells": [
  {
   "cell_type": "code",
   "execution_count": null,
   "source": [
    "'''too_close = {}\n",
    "too_close_actualind['black'] = [2,3,]  #  file extn _3,\n",
    "too_close_actualind['black'] = [i-1 for i in too_close_actualind['black']]\n",
    "too_close_actualind['grey'] = []  #'''"
   ],
   "outputs": [],
   "metadata": {}
  },
  {
   "cell_type": "code",
   "execution_count": 8,
   "source": [
    "# v2\n",
    "'''bad_vid_IDs = {}\n",
    "bad_vid_IDs['black'] = [2,3,4,6,7,9,10,14,17,18,20,21,23,24,29,35,36]\n",
    "bad_vid_IDs['black'] = [i-1 for i in bad_vid_IDs['black']]\n",
    "bad_vid_IDs['grey'] = [37,40,42,43,44,55,57,62,63,65,68,71]'''\n",
    "\n",
    "# v3\n",
    "'''bad_vid_IDs = {}\n",
    "bad_vid_IDs['black'] = [2,3,4,7,21,23,24,29,35,]\n",
    "bad_vid_IDs['black'] = [i-1 for i in bad_vid_IDs['black']]\n",
    "bad_vid_IDs['grey'] = [40,44,68,43,57,62,63,65]'''\n",
    "\n",
    "# v4\n",
    "bad_vid_IDs = {}\n",
    "bad_vid_IDs['black'] = [2,3,4,7,21,24,35]\n",
    "bad_vid_IDs['black'] = [i-1 for i in bad_vid_IDs['black']]\n",
    "bad_vid_IDs['grey'] = [40,44,57,68,62]\n"
   ],
   "outputs": [],
   "metadata": {}
  },
  {
   "cell_type": "code",
   "execution_count": 9,
   "source": [
    "len(bad_vid_IDs['black']),len(bad_vid_IDs['grey']), len(bad_vid_IDs['black'])+len(bad_vid_IDs['grey'])"
   ],
   "outputs": [
    {
     "output_type": "execute_result",
     "data": {
      "text/plain": [
       "(7, 5, 12)"
      ]
     },
     "metadata": {},
     "execution_count": 9
    }
   ],
   "metadata": {}
  },
  {
   "cell_type": "code",
   "execution_count": 10,
   "source": [
    "pwd"
   ],
   "outputs": [
    {
     "output_type": "execute_result",
     "data": {
      "text/plain": [
       "'/Users/f0053cz/Documents/GitHub/chase_mimic_study/test_version'"
      ]
     },
     "metadata": {},
     "execution_count": 10
    }
   ],
   "metadata": {}
  },
  {
   "cell_type": "code",
   "execution_count": 11,
   "source": [
    "import json\n",
    "json_data = json.dumps(bad_vid_IDs)\n",
    "print(json_data)\n",
    "with open('bad_MIMIC_inds_3.json', 'w') as outfile:\n",
    "    json.dump(json_data, outfile)"
   ],
   "outputs": [
    {
     "output_type": "stream",
     "name": "stdout",
     "text": [
      "{\"black\": [1, 2, 3, 6, 20, 23, 34], \"grey\": [40, 44, 57, 68, 62]}\n"
     ]
    }
   ],
   "metadata": {}
  },
  {
   "cell_type": "markdown",
   "source": [],
   "metadata": {}
  },
  {
   "cell_type": "code",
   "execution_count": null,
   "source": [],
   "outputs": [],
   "metadata": {}
  },
  {
   "cell_type": "code",
   "execution_count": null,
   "source": [],
   "outputs": [],
   "metadata": {}
  }
 ],
 "metadata": {
  "orig_nbformat": 4,
  "language_info": {
   "name": "python",
   "version": "3.7.11",
   "mimetype": "text/x-python",
   "codemirror_mode": {
    "name": "ipython",
    "version": 3
   },
   "pygments_lexer": "ipython3",
   "nbconvert_exporter": "python",
   "file_extension": ".py"
  },
  "kernelspec": {
   "name": "python3",
   "display_name": "Python 3.7.11 64-bit ('py37': conda)"
  },
  "interpreter": {
   "hash": "30fd9c97283ec1278eec212a8f8afab06ad903f38228c32cacb469eba8e56f4f"
  }
 },
 "nbformat": 4,
 "nbformat_minor": 2
}