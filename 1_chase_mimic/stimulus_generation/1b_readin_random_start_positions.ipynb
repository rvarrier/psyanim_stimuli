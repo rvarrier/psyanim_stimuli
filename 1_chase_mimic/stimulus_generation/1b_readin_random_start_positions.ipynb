{
 "cells": [
  {
   "cell_type": "markdown",
   "source": [
    "# read json file and plot start points"
   ],
   "metadata": {}
  },
  {
   "cell_type": "code",
   "execution_count": 1,
   "source": [
    "import os\n",
    "import json\n",
    "import numpy as np\n",
    "import matplotlib.pyplot as plt \n",
    "import pandas as pd\n",
    "os.getcwd()"
   ],
   "outputs": [
    {
     "output_type": "execute_result",
     "data": {
      "text/plain": [
       "'/Users/f0053cz/Documents/GitHub/chase_mimic_study/test_version'"
      ]
     },
     "metadata": {},
     "execution_count": 1
    }
   ],
   "metadata": {}
  },
  {
   "cell_type": "code",
   "execution_count": 2,
   "source": [
    "# setting default fontsizes for plots\n",
    "\n",
    "s=16 # CHANGE FONTSIZE HERE\n",
    "\n",
    "plt.rc('font', size=s) #controls default text size\n",
    "plt.rc('axes', titlesize=s) #fontsize of the title\n",
    "plt.rc('axes', labelsize=s) #fontsize of the x and y labels\n",
    "plt.rc('xtick', labelsize=s) #fontsize of the x tick labels\n",
    "plt.rc('ytick', labelsize=s) #fontsize of the y tick labels\n",
    "plt.rc('legend', fontsize=s) #fontsize of the legend\n",
    "#import matplotlib as mpl\n",
    "#mpl.rcParams['font.weight']= 'normal'"
   ],
   "outputs": [],
   "metadata": {}
  },
  {
   "cell_type": "code",
   "execution_count": 3,
   "source": [
    "pwd"
   ],
   "outputs": [
    {
     "output_type": "execute_result",
     "data": {
      "text/plain": [
       "'/Users/f0053cz/Documents/GitHub/chase_mimic_study/test_version'"
      ]
     },
     "metadata": {},
     "execution_count": 3
    }
   ],
   "metadata": {}
  },
  {
   "cell_type": "code",
   "execution_count": 4,
   "source": [
    "fileName = '/Users/f0053cz/Documents/psyanim_notapp/psyanim_notapp_new_mimic_expt/test_version/mimic_start_position.json'\n",
    "with open(fileName) as json_data:\n",
    "# with open(flnames[0]) as json_data:\n",
    "    mimic_intendedStartPos = json.load(json_data)\n",
    "mimic_intendedStartPos,type(mimic_intendedStartPos)"
   ],
   "outputs": [
    {
     "output_type": "execute_result",
     "data": {
      "text/plain": [
       "('{\"x\": [1089, 453, 839, 1113, 241, 286, 985, 77, 1050, 920, 82, 1064, 1106, 770, 773, 933, 258, 7, 442, 959, 1108, 1131, 666, 561, 1075, 372, 118, 1195, 948, 219, 162, 15, 873, 987, 558, 1141, 620, 162, 473, 210, 633, 83, 743, 1023, 667, 785, 245, 1170, 1126, 675, 1031, 665, 40, 88, 426, 1089, 327, 741, 98, 556, 901, 1152, 1155, 26, 1075, 1172, 551, 885, 658, 1066, 558, 939], \"y\": [745, 444, 476, 291, 497, 487, 37, 616, 259, 436, 280, 531, 157, 438, 505, 643, 802, 143, 829, 297, 634, 280, 72, 829, 546, 528, 417, 281, 871, 213, 105, 431, 75, 694, 276, 224, 486, 206, 793, 621, 554, 488, 193, 162, 634, 369, 675, 388, 326, 514, 19, 191, 24, 538, 402, 659, 16, 107, 73, 413, 517, 101, 640, 788, 185, 511, 587, 34, 261, 796, 219, 777]}',\n",
       " str)"
      ]
     },
     "metadata": {},
     "execution_count": 4
    }
   ],
   "metadata": {}
  },
  {
   "cell_type": "code",
   "execution_count": 15,
   "source": [
    "str(x) + ',' + str(y)"
   ],
   "outputs": [
    {
     "output_type": "execute_result",
     "data": {
      "text/plain": [
       "'453,444'"
      ]
     },
     "metadata": {},
     "execution_count": 15
    }
   ],
   "metadata": {}
  },
  {
   "cell_type": "code",
   "execution_count": null,
   "source": [
    "ax.annotate"
   ],
   "outputs": [],
   "metadata": {}
  },
  {
   "cell_type": "code",
   "execution_count": 28,
   "source": [
    "fig = plt.figure(1, figsize=(10,8))\n",
    "ax = fig.add_subplot(111)\n",
    "plt.xlim(0,1200)\n",
    "plt.ylim(0,900)\n",
    "for ind in range(72):\n",
    "    x,y = mimic_intendedStartPos['x'][ind],mimic_intendedStartPos['y'][ind]\n",
    "    if ind in [1,2,40]: # only 3 bad start positions (saved as _2, _3 and _40, resp)\n",
    "        print(x,y)\n",
    "        ax.plot(x,y, marker = 'o', color = 'k')\n",
    "        #ax.annotate(str(ind) + ')' + str(x) + ', ' + str(y),(x,y))\n",
    "    else:\n",
    "        ax.plot(x,y, marker = '.', color='grey')\n"
   ],
   "outputs": [
    {
     "output_type": "stream",
     "name": "stdout",
     "text": [
      "453 444\n",
      "839 476\n",
      "633 554\n"
     ]
    },
    {
     "output_type": "display_data",
     "data": {
      "image/png": "[encoded data removed]",
      "text/plain": [
       "<Figure size 720x576 with 1 Axes>"
      ]
     },
     "metadata": {
      "needs_background": "light"
     }
    }
   ],
   "metadata": {}
  },
  {
   "cell_type": "markdown",
   "source": [
    "- Changing them in the GUI version and save the new params as a new json file for data analysis"
   ],
   "metadata": {}
  },
  {
   "cell_type": "code",
   "execution_count": 32,
   "source": [
    "xy_bad_posns = {}\n",
    "ind = 1\n",
    "xy_bad_posns['old1'] = mimic_intendedStartPos['x'][ind],mimic_intendedStartPos['y'][ind]\n",
    "xy_bad_posns['new1'] = 453,350\n",
    "ind = 2\n",
    "xy_bad_posns['old2'] = mimic_intendedStartPos['x'][ind],mimic_intendedStartPos['y'][ind]\n",
    "xy_bad_posns['new2'] = 839,550\n",
    "ind = 40\n",
    "xy_bad_posns['old40'] = mimic_intendedStartPos['x'][ind],mimic_intendedStartPos['y'][ind]\n",
    "xy_bad_posns"
   ],
   "outputs": [
    {
     "output_type": "execute_result",
     "data": {
      "text/plain": [
       "{'old1': (453, 444),\n",
       " 'new1': (453, 350),\n",
       " 'old2': (839, 476),\n",
       " 'new2': (839, 550),\n",
       " 'old40': (633, 554)}"
      ]
     },
     "metadata": {},
     "execution_count": 32
    }
   ],
   "metadata": {}
  },
  {
   "cell_type": "code",
   "execution_count": 5,
   "source": [
    "if type(mimic_intendedStartPos) == str:\n",
    "    print('evaluating string')\n",
    "    mimic_intendedStartPos = eval(mimic_intendedStartPos)\n",
    "mimic_intendedStartPos.keys(), len(mimic_intendedStartPos['x']),type(mimic_intendedStartPos)"
   ],
   "outputs": [
    {
     "output_type": "stream",
     "name": "stdout",
     "text": [
      "evaluating string\n"
     ]
    },
    {
     "output_type": "execute_result",
     "data": {
      "text/plain": [
       "(dict_keys(['x', 'y']), 72, dict)"
      ]
     },
     "metadata": {},
     "execution_count": 5
    }
   ],
   "metadata": {}
  },
  {
   "cell_type": "code",
   "execution_count": 6,
   "source": [
    "plt.plot(data1['x'],data1['y'], ls = 'None',marker = 'o')"
   ],
   "outputs": [
    {
     "output_type": "error",
     "ename": "NameError",
     "evalue": "name 'data1' is not defined",
     "traceback": [
      "\u001b[0;31m---------------------------------------------------------------------------\u001b[0m",
      "\u001b[0;31mNameError\u001b[0m                                 Traceback (most recent call last)",
      "\u001b[0;32m/var/folders/kd/f3ftvnyj77x6m_3xgwwf53zc0000gp/T/ipykernel_6353/894602523.py\u001b[0m in \u001b[0;36m<module>\u001b[0;34m\u001b[0m\n\u001b[0;32m----> 1\u001b[0;31m \u001b[0mplt\u001b[0m\u001b[0;34m.\u001b[0m\u001b[0mplot\u001b[0m\u001b[0;34m(\u001b[0m\u001b[0mdata1\u001b[0m\u001b[0;34m[\u001b[0m\u001b[0;34m'x'\u001b[0m\u001b[0;34m]\u001b[0m\u001b[0;34m,\u001b[0m\u001b[0mdata1\u001b[0m\u001b[0;34m[\u001b[0m\u001b[0;34m'y'\u001b[0m\u001b[0;34m]\u001b[0m\u001b[0;34m,\u001b[0m \u001b[0mls\u001b[0m \u001b[0;34m=\u001b[0m \u001b[0;34m'None'\u001b[0m\u001b[0;34m,\u001b[0m\u001b[0mmarker\u001b[0m \u001b[0;34m=\u001b[0m \u001b[0;34m'o'\u001b[0m\u001b[0;34m)\u001b[0m\u001b[0;34m\u001b[0m\u001b[0;34m\u001b[0m\u001b[0m\n\u001b[0m",
      "\u001b[0;31mNameError\u001b[0m: name 'data1' is not defined"
     ]
    }
   ],
   "metadata": {}
  },
  {
   "cell_type": "markdown",
   "source": [
    "- Were the above positions plotted correctly? \n",
    "- Looks like there was a bug in the code which made \n",
    "    - all the black files with positions from 0-35 (but labelled 1-36)\n",
    "    - all the grey files with positions from 36-72 (also labelled 36-71)\n",
    "\n",
    "Examples below\n"
   ],
   "metadata": {}
  },
  {
   "cell_type": "code",
   "execution_count": 213,
   "source": [
    "mimic_intendedStartPos['x'][71],mimic_intendedStartPos['y'][71] # corresponds more with filename ending with 71"
   ],
   "outputs": [
    {
     "output_type": "execute_result",
     "data": {
      "text/plain": [
       "(939, 777)"
      ]
     },
     "metadata": {},
     "execution_count": 213
    }
   ],
   "metadata": {}
  },
  {
   "cell_type": "code",
   "execution_count": 214,
   "source": [
    "mimic_intendedStartPos['x'][19],mimic_intendedStartPos['y'][19] # corresponds more with filename ending with 20"
   ],
   "outputs": [
    {
     "output_type": "execute_result",
     "data": {
      "text/plain": [
       "(959, 297)"
      ]
     },
     "metadata": {},
     "execution_count": 214
    }
   ],
   "metadata": {}
  },
  {
   "cell_type": "markdown",
   "source": [
    "- double-checking this in the next step by comparing initial positions in the json file"
   ],
   "metadata": {}
  },
  {
   "cell_type": "code",
   "execution_count": 215,
   "source": [
    "if type(mimic_intendedStartPos) ==dict:\n",
    "    print('before: ',mimic_intendedStartPos['x'][:3],mimic_intendedStartPos['y'][:3])\n",
    "    mimic_intendedStartPos = np.array([mimic_intendedStartPos['x'],mimic_intendedStartPos['y']]).T\n",
    "mimic_intendedStartPos[:3,:]"
   ],
   "outputs": [
    {
     "output_type": "stream",
     "name": "stdout",
     "text": [
      "before:  [1089, 453, 839] [745, 444, 476]\n"
     ]
    },
    {
     "output_type": "execute_result",
     "data": {
      "text/plain": [
       "array([[1089,  745],\n",
       "       [ 453,  444],\n",
       "       [ 839,  476]])"
      ]
     },
     "metadata": {},
     "execution_count": 215
    }
   ],
   "metadata": {}
  },
  {
   "cell_type": "markdown",
   "source": [
    "# Getting initial positions of true prey from the .json files"
   ],
   "metadata": {}
  },
  {
   "cell_type": "code",
   "execution_count": 216,
   "source": [
    "file"
   ],
   "outputs": [
    {
     "output_type": "execute_result",
     "data": {
      "text/plain": [
       "'/Users/f0053cz/Documents/psyanim_notapp/psyanim_notapp_new_mimic_expt/test_version/vids/mimic/mimic_flipped__cheatpred_subt150_Grey_Posx_850_InvisPreyLocInd_71.json'"
      ]
     },
     "metadata": {},
     "execution_count": 216
    }
   ],
   "metadata": {}
  },
  {
   "cell_type": "code",
   "execution_count": 233,
   "source": [
    "folder =  '/Users/f0053cz/Documents/psyanim_notapp/psyanim_notapp_new_mimic_expt/test_version/vids/mimic'\n",
    "json_files = []\n",
    "file_ind = []\n",
    "for file in os.listdir(folder):\n",
    "    # check the files which are end with specific extension\n",
    "    if (file.find('InvisPreyLocInd')!=-1) and (file.find('cheat')!=-1)  and (file.endswith(\".json\")):\n",
    "        # print path name of selected files\n",
    "        #json_files.append(os.path.join(root, file))\n",
    "        file_ind.append(int(file.split('_')[-1].split('.')[0])) # initPos_suffix\n",
    "        json_files.append(os.path.join(folder, file))\n",
    "#_print('\\n'.join(json_files))\n",
    "json_files = [x for _, x in sorted(zip(file_ind, json_files))]\n",
    "x = json_files[35]\n",
    "json_files[35]=json_files[36]\n",
    "json_files[36] = x\n",
    "print(len(json_files))"
   ],
   "outputs": [
    {
     "output_type": "stream",
     "name": "stdout",
     "text": [
      "72\n"
     ]
    }
   ],
   "metadata": {}
  },
  {
   "cell_type": "code",
   "execution_count": 234,
   "source": [
    "data_initPos = []\n",
    "for file in json_files:\n",
    "    fileName = os.path.join(folder,file)\n",
    "    #print(fileName)\n",
    "\n",
    "    os.chdir(folder)\n",
    "    #flnames = glob.glob(\"*.json\")\n",
    "    # Reading the json as a dict\n",
    "    with open(fileName) as json_data:\n",
    "    # with open(flnames[0]) as json_data:\n",
    "        data_initPos.append(json.load(json_data))\n",
    "len(data_initPos)#,data_initPos[0]"
   ],
   "outputs": [
    {
     "output_type": "execute_result",
     "data": {
      "text/plain": [
       "72"
      ]
     },
     "metadata": {},
     "execution_count": 234
    }
   ],
   "metadata": {}
  },
  {
   "cell_type": "code",
   "execution_count": 235,
   "source": [
    "data_initPos[0]['timeStampStates'][0]['entityStates'][1]"
   ],
   "outputs": [
    {
     "output_type": "execute_result",
     "data": {
      "text/plain": [
       "{'name': 'invisPreyAgent',\n",
       " 'position': {'x': 1089, 'y': 745},\n",
       " 'rotation': 270,\n",
       " 'scale': {'x': 1, 'y': 1},\n",
       " 'currentMotiv': None}"
      ]
     },
     "metadata": {},
     "execution_count": 235
    }
   ],
   "metadata": {}
  },
  {
   "cell_type": "code",
   "execution_count": 236,
   "source": [
    "len(data_initPos)"
   ],
   "outputs": [
    {
     "output_type": "execute_result",
     "data": {
      "text/plain": [
       "72"
      ]
     },
     "metadata": {},
     "execution_count": 236
    }
   ],
   "metadata": {}
  },
  {
   "cell_type": "code",
   "execution_count": 237,
   "source": [
    "dist_all = []\n",
    "timept_millisec = 0\n",
    "agent_ind = 1\n",
    "\n",
    "for i in range(len(data_initPos)):\n",
    "    agent_name = data_initPos[i]['timeStampStates'][timept_millisec]['entityStates'][agent_ind]['name']\n",
    "    if agent_name == 'invisPreyAgent':\n",
    "        pos = data_initPos[i]['timeStampStates'][timept_millisec]['entityStates'][agent_ind]['position']\n",
    "        print(i,pos['x'])\n",
    "    #if pos['x'] ==82:\n",
    "     #   print(pos)\n",
    "    dist_all.append([pos['x'],pos['y']])\n",
    "dist_all = np.array(dist_all)\n",
    "dist_all.shape"
   ],
   "outputs": [
    {
     "output_type": "stream",
     "name": "stdout",
     "text": [
      "0 1089\n",
      "1 453\n",
      "2 839\n",
      "3 1113\n",
      "4 241\n",
      "5 286\n",
      "6 985\n",
      "7 77\n",
      "8 1050\n",
      "9 920\n",
      "10 82\n",
      "11 1064\n",
      "12 1106\n",
      "13 770\n",
      "14 773\n",
      "15 933\n",
      "16 258\n",
      "17 7\n",
      "18 442\n",
      "19 959\n",
      "20 1108\n",
      "21 1131\n",
      "22 666\n",
      "23 561\n",
      "24 1075\n",
      "25 372\n",
      "26 118\n",
      "27 1195\n",
      "28 948\n",
      "29 219\n",
      "30 162\n",
      "31 15\n",
      "32 873\n",
      "33 987\n",
      "34 558\n",
      "35 1141\n",
      "36 620\n",
      "37 162\n",
      "38 473\n",
      "39 210\n",
      "40 633\n",
      "41 83\n",
      "42 743\n",
      "43 1023\n",
      "44 667\n",
      "45 785\n",
      "46 245\n",
      "47 1170\n",
      "48 1126\n",
      "49 675\n",
      "50 1031\n",
      "51 665\n",
      "52 40\n",
      "53 88\n",
      "54 426\n",
      "55 1089\n",
      "56 327\n",
      "57 741\n",
      "58 98\n",
      "59 556\n",
      "60 901\n",
      "61 1152\n",
      "62 1155\n",
      "63 26\n",
      "64 1075\n",
      "65 1172\n",
      "66 551\n",
      "67 885\n",
      "68 658\n",
      "69 1066\n",
      "70 558\n",
      "71 939\n"
     ]
    },
    {
     "output_type": "execute_result",
     "data": {
      "text/plain": [
       "(72, 2)"
      ]
     },
     "metadata": {},
     "execution_count": 237
    }
   ],
   "metadata": {}
  },
  {
   "cell_type": "code",
   "execution_count": null,
   "source": [
    "json_files_ind = [int(i.split('/')[-1].split('_')[-1][:-5]) for i in json_files]\n",
    "json_files_ind"
   ],
   "outputs": [],
   "metadata": {}
  },
  {
   "cell_type": "code",
   "execution_count": 251,
   "source": [
    "df = pd.DataFrame({'Intended_x':mimic_intendedStartPos[:,0],'Intended_y':mimic_intendedStartPos[:,1], 'Intended_flname': np.arange(1,73),\n",
    "'saved_init_x':dist_all[:,0],'saved_init_y':dist_all[:,1], 'filename_suff':json_files_ind})\n",
    "df"
   ],
   "outputs": [
    {
     "output_type": "execute_result",
     "data": {
      "text/html": [
       "<div>\n",
       "<style scoped>\n",
       "    .dataframe tbody tr th:only-of-type {\n",
       "        vertical-align: middle;\n",
       "    }\n",
       "\n",
       "    .dataframe tbody tr th {\n",
       "        vertical-align: top;\n",
       "    }\n",
       "\n",
       "    .dataframe thead th {\n",
       "        text-align: right;\n",
       "    }\n",
       "</style>\n",
       "<table border=\"1\" class=\"dataframe\">\n",
       "  <thead>\n",
       "    <tr style=\"text-align: right;\">\n",
       "      <th></th>\n",
       "      <th>Intended_x</th>\n",
       "      <th>Intended_y</th>\n",
       "      <th>Intended_flname</th>\n",
       "      <th>saved_init_x</th>\n",
       "      <th>saved_init_y</th>\n",
       "      <th>filename_suff</th>\n",
       "    </tr>\n",
       "  </thead>\n",
       "  <tbody>\n",
       "    <tr>\n",
       "      <th>0</th>\n",
       "      <td>1089</td>\n",
       "      <td>745</td>\n",
       "      <td>1</td>\n",
       "      <td>1089</td>\n",
       "      <td>745</td>\n",
       "      <td>1</td>\n",
       "    </tr>\n",
       "    <tr>\n",
       "      <th>1</th>\n",
       "      <td>453</td>\n",
       "      <td>444</td>\n",
       "      <td>2</td>\n",
       "      <td>453</td>\n",
       "      <td>444</td>\n",
       "      <td>2</td>\n",
       "    </tr>\n",
       "    <tr>\n",
       "      <th>2</th>\n",
       "      <td>839</td>\n",
       "      <td>476</td>\n",
       "      <td>3</td>\n",
       "      <td>839</td>\n",
       "      <td>476</td>\n",
       "      <td>3</td>\n",
       "    </tr>\n",
       "    <tr>\n",
       "      <th>3</th>\n",
       "      <td>1113</td>\n",
       "      <td>291</td>\n",
       "      <td>4</td>\n",
       "      <td>1113</td>\n",
       "      <td>291</td>\n",
       "      <td>4</td>\n",
       "    </tr>\n",
       "    <tr>\n",
       "      <th>4</th>\n",
       "      <td>241</td>\n",
       "      <td>497</td>\n",
       "      <td>5</td>\n",
       "      <td>241</td>\n",
       "      <td>497</td>\n",
       "      <td>5</td>\n",
       "    </tr>\n",
       "    <tr>\n",
       "      <th>...</th>\n",
       "      <td>...</td>\n",
       "      <td>...</td>\n",
       "      <td>...</td>\n",
       "      <td>...</td>\n",
       "      <td>...</td>\n",
       "      <td>...</td>\n",
       "    </tr>\n",
       "    <tr>\n",
       "      <th>67</th>\n",
       "      <td>885</td>\n",
       "      <td>34</td>\n",
       "      <td>68</td>\n",
       "      <td>885</td>\n",
       "      <td>34</td>\n",
       "      <td>67</td>\n",
       "    </tr>\n",
       "    <tr>\n",
       "      <th>68</th>\n",
       "      <td>658</td>\n",
       "      <td>261</td>\n",
       "      <td>69</td>\n",
       "      <td>658</td>\n",
       "      <td>261</td>\n",
       "      <td>68</td>\n",
       "    </tr>\n",
       "    <tr>\n",
       "      <th>69</th>\n",
       "      <td>1066</td>\n",
       "      <td>796</td>\n",
       "      <td>70</td>\n",
       "      <td>1066</td>\n",
       "      <td>796</td>\n",
       "      <td>69</td>\n",
       "    </tr>\n",
       "    <tr>\n",
       "      <th>70</th>\n",
       "      <td>558</td>\n",
       "      <td>219</td>\n",
       "      <td>71</td>\n",
       "      <td>558</td>\n",
       "      <td>219</td>\n",
       "      <td>70</td>\n",
       "    </tr>\n",
       "    <tr>\n",
       "      <th>71</th>\n",
       "      <td>939</td>\n",
       "      <td>777</td>\n",
       "      <td>72</td>\n",
       "      <td>939</td>\n",
       "      <td>777</td>\n",
       "      <td>71</td>\n",
       "    </tr>\n",
       "  </tbody>\n",
       "</table>\n",
       "<p>72 rows × 6 columns</p>\n",
       "</div>"
      ],
      "text/plain": [
       "    Intended_x  Intended_y  Intended_flname  saved_init_x  saved_init_y  \\\n",
       "0         1089         745                1          1089           745   \n",
       "1          453         444                2           453           444   \n",
       "2          839         476                3           839           476   \n",
       "3         1113         291                4          1113           291   \n",
       "4          241         497                5           241           497   \n",
       "..         ...         ...              ...           ...           ...   \n",
       "67         885          34               68           885            34   \n",
       "68         658         261               69           658           261   \n",
       "69        1066         796               70          1066           796   \n",
       "70         558         219               71           558           219   \n",
       "71         939         777               72           939           777   \n",
       "\n",
       "    filename_suff  \n",
       "0               1  \n",
       "1               2  \n",
       "2               3  \n",
       "3               4  \n",
       "4               5  \n",
       "..            ...  \n",
       "67             67  \n",
       "68             68  \n",
       "69             69  \n",
       "70             70  \n",
       "71             71  \n",
       "\n",
       "[72 rows x 6 columns]"
      ]
     },
     "metadata": {},
     "execution_count": 251
    }
   ],
   "metadata": {}
  },
  {
   "cell_type": "code",
   "execution_count": 252,
   "source": [
    "np.where(df['Intended_flname']==df['filename_suff'])"
   ],
   "outputs": [
    {
     "output_type": "execute_result",
     "data": {
      "text/plain": [
       "(array([ 0,  1,  2,  3,  4,  5,  6,  7,  8,  9, 10, 11, 12, 13, 14, 15, 16,\n",
       "        17, 18, 19, 20, 21, 22, 23, 24, 25, 26, 27, 28, 29, 30, 31, 32, 33,\n",
       "        34, 35]),)"
      ]
     },
     "metadata": {},
     "execution_count": 252
    }
   ],
   "metadata": {}
  },
  {
   "cell_type": "code",
   "execution_count": 253,
   "source": [
    "np.where(df['Intended_flname']==df['filename_suff']+1)"
   ],
   "outputs": [
    {
     "output_type": "execute_result",
     "data": {
      "text/plain": [
       "(array([36, 37, 38, 39, 40, 41, 42, 43, 44, 45, 46, 47, 48, 49, 50, 51, 52,\n",
       "        53, 54, 55, 56, 57, 58, 59, 60, 61, 62, 63, 64, 65, 66, 67, 68, 69,\n",
       "        70, 71]),)"
      ]
     },
     "metadata": {},
     "execution_count": 253
    }
   ],
   "metadata": {}
  },
  {
   "cell_type": "markdown",
   "source": [
    "- So yeah verified, \n",
    "let's rename all files to the range 0-71 in the next version!!\n",
    "- i.e., renaming all the black predator files: 1-36 to 0-35"
   ],
   "metadata": {}
  },
  {
   "cell_type": "code",
   "execution_count": 157,
   "source": [
    "for i in range(3):\n",
    "    print(df.iloc[i ,0]/df.iloc[i,1],df.iloc[i,2]/df.iloc[i,3])"
   ],
   "outputs": [
    {
     "output_type": "stream",
     "name": "stdout",
     "text": [
      "1.461744966442953 0.29285714285714287\n",
      "1.0202702702702702 1.3462469733656175\n",
      "1.7626050420168067 26.029411764705884\n"
     ]
    }
   ],
   "metadata": {}
  },
  {
   "cell_type": "code",
   "execution_count": 290,
   "source": [
    "bad_location_inds_filename = [i for i in [2, 6, 9, 14, 17, 18, 21, 23, 29, 36, 44, 55, 57, 62, 63, 65,68]] # prey goes off screen\n",
    "bad_locations_pred_pos = []#['L','R','L','L','L', 'R','R','L','R','L','R']\n",
    "bad_locations_subt = []#[0,0,30,30,60,60,90,90,90,90]\n",
    "for file in json_files:\n",
    "    if int(file.split('_')[-1][:-5]) in bad_location_inds_filename:\n",
    "        #print(int(file.split('_')[-1][:-5]) )\n",
    "        bad_locations_pred_pos.append(int(file.split('_')[-3]))\n",
    "        bad_locations_subt.append(int(file.split('_')[-6][4:]))\n",
    "print(len(bad_locations_pred_pos))\n",
    "print(len(bad_locations_subt))\n",
    "print(len(bad_location_inds_filename))\n",
    "color_bad36= 'Black'\n",
    "for i,loc_ in enumerate(bad_location_inds_filename):\n",
    "    if loc_ < 36:\n",
    "        bad_location_inds_filename[i] -= 1\n",
    "    if loc_ ==36:\n",
    "        if color_bad36.lower() == 'black':\n",
    "            bad_location_inds_filename[i] -= 1\n",
    "        #raise Exception('change something!')\n",
    "bad_locations_subt = [0,0,30,30,60,60,90,90,90,90]\n",
    "print(bad_location_inds_filename)\n",
    "\n",
    "# WHY DIFF NR OF FILE?!"
   ],
   "outputs": [
    {
     "output_type": "stream",
     "name": "stdout",
     "text": [
      "18\n",
      "18\n",
      "17\n",
      "[1, 5, 8, 13, 16, 17, 20, 22, 28, 35, 44, 55, 57, 62, 63, 65, 68]\n"
     ]
    }
   ],
   "metadata": {}
  },
  {
   "cell_type": "code",
   "execution_count": 265,
   "source": [
    "i=0\n",
    "subt=0\n",
    "[bad_location_inds_filename[i] for i, x in enumerate(bad_locations_pred_pos) if ((x == \"L\") & (bad_locations_subt[i]==subt))]"
   ],
   "outputs": [
    {
     "output_type": "execute_result",
     "data": {
      "text/plain": [
       "[1]"
      ]
     },
     "metadata": {},
     "execution_count": 265
    }
   ],
   "metadata": {}
  },
  {
   "cell_type": "code",
   "execution_count": 269,
   "source": [
    "x,y = np.array(df['Intended_x']),np.array(df['Intended_y'])"
   ],
   "outputs": [
    {
     "output_type": "execute_result",
     "data": {
      "text/plain": [
       "(array([1089,  453,  839, 1113,  241,  286,  985,   77, 1050,  920,   82,\n",
       "        1064, 1106,  770,  773,  933,  258,    7,  442,  959, 1108, 1131,\n",
       "         666,  561, 1075,  372,  118, 1195,  948,  219,  162,   15,  873,\n",
       "         987,  558, 1141,  620,  162,  473,  210,  633,   83,  743, 1023,\n",
       "         667,  785,  245, 1170, 1126,  675, 1031,  665,   40,   88,  426,\n",
       "        1089,  327,  741,   98,  556,  901, 1152, 1155,   26, 1075, 1172,\n",
       "         551,  885,  658, 1066,  558,  939]),\n",
       " array([745, 444, 476, 291, 497, 487,  37, 616, 259, 436, 280, 531, 157,\n",
       "        438, 505, 643, 802, 143, 829, 297, 634, 280,  72, 829, 546, 528,\n",
       "        417, 281, 871, 213, 105, 431,  75, 694, 276, 224, 486, 206, 793,\n",
       "        621, 554, 488, 193, 162, 634, 369, 675, 388, 326, 514,  19, 191,\n",
       "         24, 538, 402, 659,  16, 107,  73, 413, 517, 101, 640, 788, 185,\n",
       "        511, 587,  34, 261, 796, 219, 777]))"
      ]
     },
     "metadata": {},
     "execution_count": 269
    }
   ],
   "metadata": {}
  },
  {
   "cell_type": "code",
   "execution_count": 270,
   "source": [
    "import os\n",
    "import json\n",
    "os.getcwd()"
   ],
   "outputs": [
    {
     "output_type": "execute_result",
     "data": {
      "text/plain": [
       "'/Users/f0053cz/Documents/psyanim_notapp/psyanim_notapp_new_mimic_expt/test_version/vids/mimic'"
      ]
     },
     "metadata": {},
     "execution_count": 270
    }
   ],
   "metadata": {}
  },
  {
   "cell_type": "code",
   "execution_count": 271,
   "source": [
    "if type(data1) == str:\n",
    "    print('evaluating string')\n",
    "    data1 = eval(data1)\n",
    "data1.keys(), len(data1['x'])"
   ],
   "outputs": [
    {
     "output_type": "execute_result",
     "data": {
      "text/plain": [
       "(dict_keys(['x', 'y']), 72)"
      ]
     },
     "metadata": {},
     "execution_count": 271
    }
   ],
   "metadata": {}
  },
  {
   "cell_type": "code",
   "execution_count": 289,
   "source": [
    "len(bad_locations_subt), len(bad_location_inds_filename), len(bad_locations_pred_pos)"
   ],
   "outputs": [
    {
     "output_type": "execute_result",
     "data": {
      "text/plain": [
       "(10, 17, 18)"
      ]
     },
     "metadata": {},
     "execution_count": 289
    }
   ],
   "metadata": {}
  },
  {
   "cell_type": "code",
   "execution_count": 286,
   "source": [
    "\n",
    "plt.plot(x,y, ls = 'None',marker = '.', color='k')\n",
    "plt.plot(x[bad_location_inds_filename], y[bad_location_inds_filename],ls = 'None',marker = '+',color='r')\n",
    "\n",
    "fig,axes = plt.subplots(nrows=1,ncols=4,figsize=(20,3))\n",
    "for i,subt in enumerate([0,30,60,90,120,150]):\n",
    "    ax = axes[i]\n",
    "    ax.set_xlim(-10,1200)\n",
    "    ax.set_ylim(-10,900)\n",
    "    ind = [bad_location_inds_filename[i] for i, x in enumerate(bad_locations_pred_pos) if ((x == 350) & (bad_locations_subt[i]==subt))]\n",
    "    ax.plot(x[ind], y[ind],ls = 'None',marker = '^',markersize=10, alpha = .5,color='g',label = 'truePrey_predLeft')\n",
    "    print('left',subt, ind,'xy=',[x[ind], y[ind]])\n",
    "\n",
    "    ind =  [bad_location_inds_filename[i] for i, x in enumerate(bad_locations_pred_pos) if ((x == 850) & (bad_locations_subt[i]==subt))]\n",
    "    ax.plot(x[ind], y[ind],ls = 'None',marker = 'v',markersize=10, alpha = .5,color='b',label ='truePrey_predRight')\n",
    "    print('right',subt, ind,'xy=',[x[ind], y[ind]])\n",
    "\n",
    "    ax.plot(350,450, marker='o',markersize=10, alpha = .5,color='g')\n",
    "    ax.plot(850,450, marker='o',markersize=10, alpha = .5,color='b')\n",
    "    if i == 0:\n",
    "        ax.legend(bbox_to_anchor=[1,1.5])\n",
    "    ax.set_title('Subtlety '+str(subt))\n",
    "#plt.tight_layout()"
   ],
   "outputs": [
    {
     "output_type": "error",
     "ename": "IndexError",
     "evalue": "list index out of range",
     "traceback": [
      "\u001b[0;31m---------------------------------------------------------------------------\u001b[0m",
      "\u001b[0;31mIndexError\u001b[0m                                Traceback (most recent call last)",
      "\u001b[0;32m/var/folders/kd/f3ftvnyj77x6m_3xgwwf53zc0000gp/T/ipykernel_72606/2748321298.py\u001b[0m in \u001b[0;36m<module>\u001b[0;34m\u001b[0m\n\u001b[1;32m      7\u001b[0m     \u001b[0max\u001b[0m\u001b[0;34m.\u001b[0m\u001b[0mset_xlim\u001b[0m\u001b[0;34m(\u001b[0m\u001b[0;34m-\u001b[0m\u001b[0;36m10\u001b[0m\u001b[0;34m,\u001b[0m\u001b[0;36m1200\u001b[0m\u001b[0;34m)\u001b[0m\u001b[0;34m\u001b[0m\u001b[0;34m\u001b[0m\u001b[0m\n\u001b[1;32m      8\u001b[0m     \u001b[0max\u001b[0m\u001b[0;34m.\u001b[0m\u001b[0mset_ylim\u001b[0m\u001b[0;34m(\u001b[0m\u001b[0;34m-\u001b[0m\u001b[0;36m10\u001b[0m\u001b[0;34m,\u001b[0m\u001b[0;36m900\u001b[0m\u001b[0;34m)\u001b[0m\u001b[0;34m\u001b[0m\u001b[0;34m\u001b[0m\u001b[0m\n\u001b[0;32m----> 9\u001b[0;31m     \u001b[0mind\u001b[0m \u001b[0;34m=\u001b[0m \u001b[0;34m[\u001b[0m\u001b[0mbad_location_inds_filename\u001b[0m\u001b[0;34m[\u001b[0m\u001b[0mi\u001b[0m\u001b[0;34m]\u001b[0m \u001b[0;32mfor\u001b[0m \u001b[0mi\u001b[0m\u001b[0;34m,\u001b[0m \u001b[0mx\u001b[0m \u001b[0;32min\u001b[0m \u001b[0menumerate\u001b[0m\u001b[0;34m(\u001b[0m\u001b[0mbad_locations_pred_pos\u001b[0m\u001b[0;34m)\u001b[0m \u001b[0;32mif\u001b[0m \u001b[0;34m(\u001b[0m\u001b[0;34m(\u001b[0m\u001b[0mx\u001b[0m \u001b[0;34m==\u001b[0m \u001b[0;36m350\u001b[0m\u001b[0;34m)\u001b[0m \u001b[0;34m&\u001b[0m \u001b[0;34m(\u001b[0m\u001b[0mbad_locations_subt\u001b[0m\u001b[0;34m[\u001b[0m\u001b[0mi\u001b[0m\u001b[0;34m]\u001b[0m\u001b[0;34m==\u001b[0m\u001b[0msubt\u001b[0m\u001b[0;34m)\u001b[0m\u001b[0;34m)\u001b[0m\u001b[0;34m]\u001b[0m\u001b[0;34m\u001b[0m\u001b[0;34m\u001b[0m\u001b[0m\n\u001b[0m\u001b[1;32m     10\u001b[0m     \u001b[0max\u001b[0m\u001b[0;34m.\u001b[0m\u001b[0mplot\u001b[0m\u001b[0;34m(\u001b[0m\u001b[0mx\u001b[0m\u001b[0;34m[\u001b[0m\u001b[0mind\u001b[0m\u001b[0;34m]\u001b[0m\u001b[0;34m,\u001b[0m \u001b[0my\u001b[0m\u001b[0;34m[\u001b[0m\u001b[0mind\u001b[0m\u001b[0;34m]\u001b[0m\u001b[0;34m,\u001b[0m\u001b[0mls\u001b[0m \u001b[0;34m=\u001b[0m \u001b[0;34m'None'\u001b[0m\u001b[0;34m,\u001b[0m\u001b[0mmarker\u001b[0m \u001b[0;34m=\u001b[0m \u001b[0;34m'^'\u001b[0m\u001b[0;34m,\u001b[0m\u001b[0mmarkersize\u001b[0m\u001b[0;34m=\u001b[0m\u001b[0;36m10\u001b[0m\u001b[0;34m,\u001b[0m \u001b[0malpha\u001b[0m \u001b[0;34m=\u001b[0m \u001b[0;36m.5\u001b[0m\u001b[0;34m,\u001b[0m\u001b[0mcolor\u001b[0m\u001b[0;34m=\u001b[0m\u001b[0;34m'g'\u001b[0m\u001b[0;34m,\u001b[0m\u001b[0mlabel\u001b[0m \u001b[0;34m=\u001b[0m \u001b[0;34m'truePrey_predLeft'\u001b[0m\u001b[0;34m)\u001b[0m\u001b[0;34m\u001b[0m\u001b[0;34m\u001b[0m\u001b[0m\n\u001b[1;32m     11\u001b[0m     \u001b[0mprint\u001b[0m\u001b[0;34m(\u001b[0m\u001b[0;34m'left'\u001b[0m\u001b[0;34m,\u001b[0m\u001b[0msubt\u001b[0m\u001b[0;34m,\u001b[0m \u001b[0mind\u001b[0m\u001b[0;34m,\u001b[0m\u001b[0;34m'xy='\u001b[0m\u001b[0;34m,\u001b[0m\u001b[0;34m[\u001b[0m\u001b[0mx\u001b[0m\u001b[0;34m[\u001b[0m\u001b[0mind\u001b[0m\u001b[0;34m]\u001b[0m\u001b[0;34m,\u001b[0m \u001b[0my\u001b[0m\u001b[0;34m[\u001b[0m\u001b[0mind\u001b[0m\u001b[0;34m]\u001b[0m\u001b[0;34m]\u001b[0m\u001b[0;34m)\u001b[0m\u001b[0;34m\u001b[0m\u001b[0;34m\u001b[0m\u001b[0m\n",
      "\u001b[0;32m/var/folders/kd/f3ftvnyj77x6m_3xgwwf53zc0000gp/T/ipykernel_72606/2748321298.py\u001b[0m in \u001b[0;36m<listcomp>\u001b[0;34m(.0)\u001b[0m\n\u001b[1;32m      7\u001b[0m     \u001b[0max\u001b[0m\u001b[0;34m.\u001b[0m\u001b[0mset_xlim\u001b[0m\u001b[0;34m(\u001b[0m\u001b[0;34m-\u001b[0m\u001b[0;36m10\u001b[0m\u001b[0;34m,\u001b[0m\u001b[0;36m1200\u001b[0m\u001b[0;34m)\u001b[0m\u001b[0;34m\u001b[0m\u001b[0;34m\u001b[0m\u001b[0m\n\u001b[1;32m      8\u001b[0m     \u001b[0max\u001b[0m\u001b[0;34m.\u001b[0m\u001b[0mset_ylim\u001b[0m\u001b[0;34m(\u001b[0m\u001b[0;34m-\u001b[0m\u001b[0;36m10\u001b[0m\u001b[0;34m,\u001b[0m\u001b[0;36m900\u001b[0m\u001b[0;34m)\u001b[0m\u001b[0;34m\u001b[0m\u001b[0;34m\u001b[0m\u001b[0m\n\u001b[0;32m----> 9\u001b[0;31m     \u001b[0mind\u001b[0m \u001b[0;34m=\u001b[0m \u001b[0;34m[\u001b[0m\u001b[0mbad_location_inds_filename\u001b[0m\u001b[0;34m[\u001b[0m\u001b[0mi\u001b[0m\u001b[0;34m]\u001b[0m \u001b[0;32mfor\u001b[0m \u001b[0mi\u001b[0m\u001b[0;34m,\u001b[0m \u001b[0mx\u001b[0m \u001b[0;32min\u001b[0m \u001b[0menumerate\u001b[0m\u001b[0;34m(\u001b[0m\u001b[0mbad_locations_pred_pos\u001b[0m\u001b[0;34m)\u001b[0m \u001b[0;32mif\u001b[0m \u001b[0;34m(\u001b[0m\u001b[0;34m(\u001b[0m\u001b[0mx\u001b[0m \u001b[0;34m==\u001b[0m \u001b[0;36m350\u001b[0m\u001b[0;34m)\u001b[0m \u001b[0;34m&\u001b[0m \u001b[0;34m(\u001b[0m\u001b[0mbad_locations_subt\u001b[0m\u001b[0;34m[\u001b[0m\u001b[0mi\u001b[0m\u001b[0;34m]\u001b[0m\u001b[0;34m==\u001b[0m\u001b[0msubt\u001b[0m\u001b[0;34m)\u001b[0m\u001b[0;34m)\u001b[0m\u001b[0;34m]\u001b[0m\u001b[0;34m\u001b[0m\u001b[0;34m\u001b[0m\u001b[0m\n\u001b[0m\u001b[1;32m     10\u001b[0m     \u001b[0max\u001b[0m\u001b[0;34m.\u001b[0m\u001b[0mplot\u001b[0m\u001b[0;34m(\u001b[0m\u001b[0mx\u001b[0m\u001b[0;34m[\u001b[0m\u001b[0mind\u001b[0m\u001b[0;34m]\u001b[0m\u001b[0;34m,\u001b[0m \u001b[0my\u001b[0m\u001b[0;34m[\u001b[0m\u001b[0mind\u001b[0m\u001b[0;34m]\u001b[0m\u001b[0;34m,\u001b[0m\u001b[0mls\u001b[0m \u001b[0;34m=\u001b[0m \u001b[0;34m'None'\u001b[0m\u001b[0;34m,\u001b[0m\u001b[0mmarker\u001b[0m \u001b[0;34m=\u001b[0m \u001b[0;34m'^'\u001b[0m\u001b[0;34m,\u001b[0m\u001b[0mmarkersize\u001b[0m\u001b[0;34m=\u001b[0m\u001b[0;36m10\u001b[0m\u001b[0;34m,\u001b[0m \u001b[0malpha\u001b[0m \u001b[0;34m=\u001b[0m \u001b[0;36m.5\u001b[0m\u001b[0;34m,\u001b[0m\u001b[0mcolor\u001b[0m\u001b[0;34m=\u001b[0m\u001b[0;34m'g'\u001b[0m\u001b[0;34m,\u001b[0m\u001b[0mlabel\u001b[0m \u001b[0;34m=\u001b[0m \u001b[0;34m'truePrey_predLeft'\u001b[0m\u001b[0;34m)\u001b[0m\u001b[0;34m\u001b[0m\u001b[0;34m\u001b[0m\u001b[0m\n\u001b[1;32m     11\u001b[0m     \u001b[0mprint\u001b[0m\u001b[0;34m(\u001b[0m\u001b[0;34m'left'\u001b[0m\u001b[0;34m,\u001b[0m\u001b[0msubt\u001b[0m\u001b[0;34m,\u001b[0m \u001b[0mind\u001b[0m\u001b[0;34m,\u001b[0m\u001b[0;34m'xy='\u001b[0m\u001b[0;34m,\u001b[0m\u001b[0;34m[\u001b[0m\u001b[0mx\u001b[0m\u001b[0;34m[\u001b[0m\u001b[0mind\u001b[0m\u001b[0;34m]\u001b[0m\u001b[0;34m,\u001b[0m \u001b[0my\u001b[0m\u001b[0;34m[\u001b[0m\u001b[0mind\u001b[0m\u001b[0;34m]\u001b[0m\u001b[0;34m]\u001b[0m\u001b[0;34m)\u001b[0m\u001b[0;34m\u001b[0m\u001b[0;34m\u001b[0m\u001b[0m\n",
      "\u001b[0;31mIndexError\u001b[0m: list index out of range"
     ]
    },
    {
     "output_type": "display_data",
     "data": {
      "image/png": "[encoded data removed]",
      "text/plain": [
       "<Figure size 432x288 with 1 Axes>"
      ]
     },
     "metadata": {
      "needs_background": "light"
     }
    },
    {
     "output_type": "display_data",
     "data": {
      "image/png": "[encoded data removed]",
      "text/plain": [
       "<Figure size 1440x216 with 4 Axes>"
      ]
     },
     "metadata": {
      "needs_background": "light"
     }
    }
   ],
   "metadata": {}
  },
  {
   "cell_type": "code",
   "execution_count": 4,
   "source": [
    "rows =  np.arange((subt-1)*6,subt*6)\n",
    "#rows = [int(i) for i in rows]\n",
    "#rows = slice(rows)\n",
    "rows"
   ],
   "outputs": [
    {
     "output_type": "error",
     "ename": "NameError",
     "evalue": "name 'np' is not defined",
     "traceback": [
      "\u001b[0;31m---------------------------------------------------------------------------\u001b[0m",
      "\u001b[0;31mNameError\u001b[0m                                 Traceback (most recent call last)",
      "\u001b[0;32m/var/folders/kd/f3ftvnyj77x6m_3xgwwf53zc0000gp/T/ipykernel_56754/3232600957.py\u001b[0m in \u001b[0;36m<module>\u001b[0;34m\u001b[0m\n\u001b[0;32m----> 1\u001b[0;31m \u001b[0mrows\u001b[0m \u001b[0;34m=\u001b[0m  \u001b[0mnp\u001b[0m\u001b[0;34m.\u001b[0m\u001b[0marange\u001b[0m\u001b[0;34m(\u001b[0m\u001b[0;34m(\u001b[0m\u001b[0msubt\u001b[0m\u001b[0;34m-\u001b[0m\u001b[0;36m1\u001b[0m\u001b[0;34m)\u001b[0m\u001b[0;34m*\u001b[0m\u001b[0;36m6\u001b[0m\u001b[0;34m,\u001b[0m\u001b[0msubt\u001b[0m\u001b[0;34m*\u001b[0m\u001b[0;36m6\u001b[0m\u001b[0;34m)\u001b[0m\u001b[0;34m\u001b[0m\u001b[0;34m\u001b[0m\u001b[0m\n\u001b[0m\u001b[1;32m      2\u001b[0m \u001b[0;31m#rows = [int(i) for i in rows]\u001b[0m\u001b[0;34m\u001b[0m\u001b[0;34m\u001b[0m\u001b[0;34m\u001b[0m\u001b[0m\n\u001b[1;32m      3\u001b[0m \u001b[0;31m#rows = slice(rows)\u001b[0m\u001b[0;34m\u001b[0m\u001b[0;34m\u001b[0m\u001b[0;34m\u001b[0m\u001b[0m\n\u001b[1;32m      4\u001b[0m \u001b[0mrows\u001b[0m\u001b[0;34m\u001b[0m\u001b[0;34m\u001b[0m\u001b[0m\n",
      "\u001b[0;31mNameError\u001b[0m: name 'np' is not defined"
     ]
    }
   ],
   "metadata": {}
  },
  {
   "cell_type": "code",
   "execution_count": 5,
   "source": [
    "import numpy as np\n",
    "import matplotlib.pyplot as plt\n",
    "\n",
    "plt.figure(1,figsize=(10,8))\n",
    "for subt in range(6):\n",
    "    plt.subplot(3,3,subt+1)\n",
    "    rows =  np.arange(subt*6,(subt+1)*6)\n",
    "    print(subt, rows)\n",
    "    x,y = np.array(data1['x'])[rows],np.array(data1['y'])[rows]\n",
    "    plt.plot(x,y,marker = 'o',ls = 'None')\n",
    "    plt.plot(x.mean(),y.mean(),color='r',marker = '+')\n",
    "    plt.title('Subtlety ' + str(subt_angle[subt]), fontweight='bold')\n",
    "\n",
    "plt.tight_layout()"
   ],
   "outputs": [
    {
     "output_type": "stream",
     "name": "stdout",
     "text": [
      "0 [0 1 2 3 4 5]\n"
     ]
    },
    {
     "output_type": "error",
     "ename": "NameError",
     "evalue": "name 'subt_angle' is not defined",
     "traceback": [
      "\u001b[0;31m---------------------------------------------------------------------------\u001b[0m",
      "\u001b[0;31mNameError\u001b[0m                                 Traceback (most recent call last)",
      "\u001b[0;32m/var/folders/kd/f3ftvnyj77x6m_3xgwwf53zc0000gp/T/ipykernel_56754/2328261162.py\u001b[0m in \u001b[0;36m<module>\u001b[0;34m\u001b[0m\n\u001b[1;32m     10\u001b[0m     \u001b[0mplt\u001b[0m\u001b[0;34m.\u001b[0m\u001b[0mplot\u001b[0m\u001b[0;34m(\u001b[0m\u001b[0mx\u001b[0m\u001b[0;34m,\u001b[0m\u001b[0my\u001b[0m\u001b[0;34m,\u001b[0m\u001b[0mmarker\u001b[0m \u001b[0;34m=\u001b[0m \u001b[0;34m'o'\u001b[0m\u001b[0;34m,\u001b[0m\u001b[0mls\u001b[0m \u001b[0;34m=\u001b[0m \u001b[0;34m'None'\u001b[0m\u001b[0;34m)\u001b[0m\u001b[0;34m\u001b[0m\u001b[0;34m\u001b[0m\u001b[0m\n\u001b[1;32m     11\u001b[0m     \u001b[0mplt\u001b[0m\u001b[0;34m.\u001b[0m\u001b[0mplot\u001b[0m\u001b[0;34m(\u001b[0m\u001b[0mx\u001b[0m\u001b[0;34m.\u001b[0m\u001b[0mmean\u001b[0m\u001b[0;34m(\u001b[0m\u001b[0;34m)\u001b[0m\u001b[0;34m,\u001b[0m\u001b[0my\u001b[0m\u001b[0;34m.\u001b[0m\u001b[0mmean\u001b[0m\u001b[0;34m(\u001b[0m\u001b[0;34m)\u001b[0m\u001b[0;34m,\u001b[0m\u001b[0mcolor\u001b[0m\u001b[0;34m=\u001b[0m\u001b[0;34m'r'\u001b[0m\u001b[0;34m,\u001b[0m\u001b[0mmarker\u001b[0m \u001b[0;34m=\u001b[0m \u001b[0;34m'+'\u001b[0m\u001b[0;34m)\u001b[0m\u001b[0;34m\u001b[0m\u001b[0;34m\u001b[0m\u001b[0m\n\u001b[0;32m---> 12\u001b[0;31m     \u001b[0mplt\u001b[0m\u001b[0;34m.\u001b[0m\u001b[0mtitle\u001b[0m\u001b[0;34m(\u001b[0m\u001b[0;34m'Subtlety '\u001b[0m \u001b[0;34m+\u001b[0m \u001b[0mstr\u001b[0m\u001b[0;34m(\u001b[0m\u001b[0msubt_angle\u001b[0m\u001b[0;34m[\u001b[0m\u001b[0msubt\u001b[0m\u001b[0;34m]\u001b[0m\u001b[0;34m)\u001b[0m\u001b[0;34m,\u001b[0m \u001b[0mfontweight\u001b[0m\u001b[0;34m=\u001b[0m\u001b[0;34m'bold'\u001b[0m\u001b[0;34m)\u001b[0m\u001b[0;34m\u001b[0m\u001b[0;34m\u001b[0m\u001b[0m\n\u001b[0m\u001b[1;32m     13\u001b[0m \u001b[0;34m\u001b[0m\u001b[0m\n\u001b[1;32m     14\u001b[0m \u001b[0mplt\u001b[0m\u001b[0;34m.\u001b[0m\u001b[0mtight_layout\u001b[0m\u001b[0;34m(\u001b[0m\u001b[0;34m)\u001b[0m\u001b[0;34m\u001b[0m\u001b[0;34m\u001b[0m\u001b[0m\n",
      "\u001b[0;31mNameError\u001b[0m: name 'subt_angle' is not defined"
     ]
    },
    {
     "output_type": "display_data",
     "data": {
      "image/png": "[encoded data removed]",
      "text/plain": [
       "<Figure size 720x576 with 1 Axes>"
      ]
     },
     "metadata": {
      "needs_background": "light"
     }
    }
   ],
   "metadata": {}
  },
  {
   "cell_type": "markdown",
   "source": [
    "# extra"
   ],
   "metadata": {}
  },
  {
   "cell_type": "code",
   "execution_count": null,
   "source": [
    "import numpy as np\n",
    "import matplotlib.pyplot as plt\n",
    "\n",
    "plt.figure(1,figsize=(10,8))\n",
    "for subt in range(6):\n",
    "    plt.subplot(3,3,subt+1)\n",
    "    rows =  np.arange(subt*6,(subt+1)*6)\n",
    "    print(subt, rows)\n",
    "    x,y = np.array(data1['x'])[rows],np.array(data1['y'])[rows]\n",
    "    plt.plot(x,y,marker = 'o',ls = 'None')\n",
    "    plt.plot(x.mean(),y.mean(),color='r',marker = '+')\n",
    "    plt.title('Subtlety ' + str(subt_angle[subt]), fontweight='bold')\n",
    "\n",
    "plt.tight_layout()"
   ],
   "outputs": [],
   "metadata": {}
  },
  {
   "cell_type": "code",
   "execution_count": null,
   "source": [
    "import cv2\n",
    "import os"
   ],
   "outputs": [],
   "metadata": {}
  },
  {
   "cell_type": "code",
   "execution_count": null,
   "source": [
    "'''output_folder = '/Users/f0053cz/Documents/psyanim_notapp/psyanim_notapp_new_mimic_expt/test_version/vids/first_frames_mimic'\n",
    "#for angle in [0,30,60,90,120,150]:\n",
    "#    os.mkdir(os.path.join(output_folder,str(angle)))\n",
    "\n",
    "\n",
    "\n",
    "parent_folder =  '/Users/f0053cz/Documents/psyanim_notapp/psyanim_notapp_new_mimic_expt/test_version/vids/mimic'\n",
    "webm_files = []\n",
    "for file in os.listdir(parent_folder): # get filenames\n",
    "    if (file.find('cheat')!=-1) and file.endswith(\".webm\"): # check the files which are end with specific extension\n",
    "        # print path name of selected files\n",
    "        #json_files.append(os.path.join(root, file))\n",
    "        #print(file)\n",
    "        webm_files.append(os.path.join(file))\n",
    "#print('\\n'.join(webm_files))\n",
    "\n",
    "for file in webm_files: # get 1st frame\n",
    "    vs = cv2.VideoCapture(os.path.join(parent_folder,file))\n",
    "    vs.set(cv2.CAP_PROP_POS_FRAMES, 0) # set position as 1st frame\n",
    "    ret, frame = vs.read() # read 1st frame\n",
    "    #print(ret)\n",
    "    if ret == True:\n",
    "        img_name = os.path.join(output_folder,file[:-4]+'png')\n",
    "        cv2.imwrite(img_name, frame)\n",
    "    else:\n",
    "        print('False!!')\n",
    "'''"
   ],
   "outputs": [],
   "metadata": {}
  }
 ],
 "metadata": {
  "orig_nbformat": 4,
  "language_info": {
   "name": "python",
   "version": "3.7.11",
   "mimetype": "text/x-python",
   "codemirror_mode": {
    "name": "ipython",
    "version": 3
   },
   "pygments_lexer": "ipython3",
   "nbconvert_exporter": "python",
   "file_extension": ".py"
  },
  "kernelspec": {
   "name": "python3",
   "display_name": "Python 3.7.11 64-bit ('py37': conda)"
  },
  "interpreter": {
   "hash": "30fd9c97283ec1278eec212a8f8afab06ad903f38228c32cacb469eba8e56f4f"
  }
 },
 "nbformat": 4,
 "nbformat_minor": 2
}