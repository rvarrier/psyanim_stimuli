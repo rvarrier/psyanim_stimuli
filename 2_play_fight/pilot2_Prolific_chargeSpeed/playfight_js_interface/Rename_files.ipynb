{
 "cells": [
  {
   "cell_type": "code",
   "execution_count": 1,
   "source": [
    "import os"
   ],
   "outputs": [],
   "metadata": {}
  },
  {
   "cell_type": "markdown",
   "source": [
    "# Rename any set"
   ],
   "metadata": {}
  },
  {
   "cell_type": "code",
   "execution_count": 5,
   "source": [
    "curr_dir = os.getcwd()\n",
    "curr_dir"
   ],
   "outputs": [
    {
     "output_type": "execute_result",
     "data": {
      "text/plain": [
       "'/Users/f0053cz/Documents/Psyanim_stim_generation/2_playfight/pilot2_Prolific_chargeSpeed/playfight_js_interface'"
      ]
     },
     "metadata": {},
     "execution_count": 5
    }
   ],
   "metadata": {}
  },
  {
   "cell_type": "code",
   "execution_count": 6,
   "source": [
    "#file_loc = 'vids/v1_repeatedstabs6_wander50/round4_Sept20_2022/playfight/good_Alison_Sept29_2022'\n",
    "file_loc = 'vids/v1_repeatedstabs6_wander50/round4_Sept20_2022/wander/after'\n",
    "files_list = os.listdir(file_loc)\n",
    "print(len(files_list))"
   ],
   "outputs": [
    {
     "output_type": "stream",
     "name": "stdout",
     "text": [
      "31\n"
     ]
    }
   ],
   "metadata": {}
  },
  {
   "cell_type": "code",
   "execution_count": 7,
   "source": [
    "prefix_ = 'round4_' # CHANGE THIS AS NEEDED\n",
    "for fname in files_list:\n",
    "    os.rename(os.path.join(file_loc,fname),os.path.join(file_loc, prefix_ + fname))\n",
    "    # os.rename('guru99.txt','career.guru99.txt')"
   ],
   "outputs": [],
   "metadata": {}
  },
  {
   "cell_type": "markdown",
   "source": [
    "# Rename rounds 1-3"
   ],
   "metadata": {}
  },
  {
   "cell_type": "code",
   "execution_count": 49,
   "source": [
    "curr_dir = os.getcwd()\n",
    "round_nr_all = ['v1_repeatedstabs6_wander50/round1_June2022/toQC_forAlison_June30/after/round1_goodvids_final/', \n",
    "'v1_repeatedstabs6_wander50/round2_Sept2022/after/Good/', \n",
    "'v1_repeatedstabs6_wander50/round3_Sept2022/after/good_vids/']"
   ],
   "outputs": [],
   "metadata": {}
  },
  {
   "cell_type": "code",
   "execution_count": 52,
   "source": [
    "ind = 0\n",
    "\n",
    "round_nr = round_nr_all[ind]\n",
    "files_loc = f'./vids/{round_nr}'\n",
    "\n",
    "files_list = os.listdir(files_loc)\n",
    "print(len(files_list))\n",
    "#files_list = [i  for i in files_list if i.split('.')[1]== 'webm']\n",
    "#len(files_list)\n",
    "\n",
    "for fname in files_list:\n",
    "    os.rename(os.path.join(files_loc,fname),os.path.join(files_loc,'round' + str(ind+1) + '_' + fname))\n",
    "    # os.rename('guru99.txt','career.guru99.txt')"
   ],
   "outputs": [
    {
     "output_type": "stream",
     "name": "stdout",
     "text": [
      "111\n"
     ]
    }
   ],
   "metadata": {}
  },
  {
   "cell_type": "code",
   "execution_count": 48,
   "source": [
    "ind = 1\n",
    "\n",
    "round_nr = round_nr_all[ind]\n",
    "files_loc = f'./vids/{round_nr}'\n",
    "\n",
    "files_list = os.listdir(files_loc)\n",
    "print(len(files_list))\n",
    "#files_list = [i  for i in files_list if i.split('.')[1]== 'webm']\n",
    "#len(files_list)\n",
    "\n",
    "for fname in files_list:\n",
    "    os.rename(os.path.join(files_loc,fname),os.path.join(files_loc,'round' + str(ind+1) + '_' + fname))\n",
    "    # os.rename('guru99.txt','career.guru99.txt')"
   ],
   "outputs": [
    {
     "output_type": "stream",
     "name": "stdout",
     "text": [
      "64\n"
     ]
    }
   ],
   "metadata": {}
  },
  {
   "cell_type": "code",
   "execution_count": 42,
   "source": [
    "files_list[0][6:]"
   ],
   "outputs": [
    {
     "output_type": "execute_result",
     "data": {
      "text/plain": [
       "'_playFight__chargeSpeed60_wander50_GreyL_var2.psyn'"
      ]
     },
     "metadata": {},
     "execution_count": 42
    }
   ],
   "metadata": {}
  },
  {
   "cell_type": "code",
   "execution_count": 45,
   "source": [
    "ind = 2\n",
    "\n",
    "round_nr = round_nr_all[ind]\n",
    "files_loc = f'./vids/{round_nr}'\n",
    "\n",
    "files_list = os.listdir(files_loc)\n",
    "print(len(files_list))\n",
    "#files_list = [i  for i in files_list if i.split('.')[1]== 'webm']\n",
    "#len(files_list)\n",
    "\n",
    "for fname in files_list:\n",
    "    os.rename(os.path.join(files_loc,fname),os.path.join(files_loc,'round' + str(ind+1) + '_' + fname))\n",
    "    # os.rename('guru99.txt','career.guru99.txt')"
   ],
   "outputs": [
    {
     "output_type": "stream",
     "name": "stdout",
     "text": [
      "36\n"
     ]
    }
   ],
   "metadata": {}
  },
  {
   "cell_type": "code",
   "execution_count": null,
   "source": [],
   "outputs": [],
   "metadata": {}
  }
 ],
 "metadata": {
  "orig_nbformat": 4,
  "language_info": {
   "name": "python",
   "version": "3.7.11",
   "mimetype": "text/x-python",
   "codemirror_mode": {
    "name": "ipython",
    "version": 3
   },
   "pygments_lexer": "ipython3",
   "nbconvert_exporter": "python",
   "file_extension": ".py"
  },
  "kernelspec": {
   "name": "python3",
   "display_name": "Python 3.7.11 64-bit ('py37': conda)"
  },
  "interpreter": {
   "hash": "30fd9c97283ec1278eec212a8f8afab06ad903f38228c32cacb469eba8e56f4f"
  }
 },
 "nbformat": 4,
 "nbformat_minor": 2
}